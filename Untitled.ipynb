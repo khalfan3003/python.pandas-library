{
 "cells": [
  {
   "cell_type": "code",
   "execution_count": null,
   "id": "bdbc8b43-d927-4e43-be7d-1a134e883074",
   "metadata": {},
   "outputs": [],
   "source": []
  },
  {
   "cell_type": "code",
   "execution_count": null,
   "id": "33676110-5555-457b-8921-7952b1730bbd",
   "metadata": {},
   "outputs": [],
   "source": []
  },
  {
   "cell_type": "code",
   "execution_count": null,
   "id": "c5444d34-9b5c-4155-ab3e-07835d373690",
   "metadata": {},
   "outputs": [],
   "source": [
    "numpy._version__\n"
   ]
  },
  {
   "cell_type": "code",
   "execution_count": null,
   "id": "85bdddd6-fd85-4ee7-a198-400ad1d040a1",
   "metadata": {},
   "outputs": [],
   "source": [
    "a=int(input(\"enter the fisrt mark\"))\n",
    "if a>91:\n",
    "    print(a,\"you got A grade\")\n",
    "elif a>71:\n",
    "    print(a,\"you got B grade\")\n",
    "elif a>71: \n",
    "    print(a,\"you got C grade\")\n",
    "elif a>61: \n",
    "    print(a,\"you got D grade\")\n",
    "else:\n",
    "    print(a,\"you got E grade\")"
   ]
  },
  {
   "cell_type": "code",
   "execution_count": null,
   "id": "cb1b22da-d4a5-4dd1-8547-e30f099522a3",
   "metadata": {},
   "outputs": [],
   "source": [
    "a=int(input(\"enter the fisrt mark\"))\n",
    "if a>91:\n",
    "    print(a,\"you got A grade\")\n",
    "elif a>71:\n",
    "    print(a,\"you got B grade\")\n",
    "elif a>71: \n",
    "    print(a,\"you got C grade\")\n",
    "elif a>61: \n",
    "    print(a,\"you got D grade\")\n",
    "else:\n",
    "    print(a,\"you got E grade\")"
   ]
  }
 ],
 "metadata": {
  "kernelspec": {
   "display_name": "Python 3 (ipykernel)",
   "language": "python",
   "name": "python3"
  },
  "language_info": {
   "codemirror_mode": {
    "name": "ipython",
    "version": 3
   },
   "file_extension": ".py",
   "mimetype": "text/x-python",
   "name": "python",
   "nbconvert_exporter": "python",
   "pygments_lexer": "ipython3",
   "version": "3.13.1"
  }
 },
 "nbformat": 4,
 "nbformat_minor": 5
}
